{
  "nbformat": 4,
  "nbformat_minor": 0,
  "metadata": {
    "colab": {
      "provenance": [],
      "gpuType": "T4"
    },
    "kernelspec": {
      "name": "python3",
      "display_name": "Python 3"
    },
    "language_info": {
      "name": "python"
    },
    "accelerator": "GPU"
  },
  "cells": [
    {
      "cell_type": "markdown",
      "source": [
        "## Categorical Focal Loss\n",
        "In this assignment we will implement a categorical focal loss function with \"L1\" and \"L2\" regularization for multi-class classification problems.\\\n",
        "Focal Loss have several applications in problems which have inbalance datasets such as Object Detection:\n",
        "you can learn more about this loss function here:\n",
        "https://medium.com/swlh/focal-loss-what-why-and-how-df6735f26616"
      ],
      "metadata": {
        "id": "X92cEw1w8Kit"
      }
    },
    {
      "cell_type": "code",
      "execution_count": 2,
      "metadata": {
        "id": "X3bSV4DJ8GXM"
      },
      "outputs": [],
      "source": [
        "import tensorflow as tf"
      ]
    },
    {
      "cell_type": "markdown",
      "source": [
        "## Focal Loss Formula:\n",
        "$$\n",
        "FL(y_{true}, y_{pred}) = - \\alpha * y_{true} * (1 - y_{pred})^ γ * log(y_{pred}) \\\\\n",
        "l1(y_{true}, y_{pred}) = ∑|y_{pred}| \\\\\n",
        "l2(y_{true}, y_{pred}) = \\sum (y_{pred})^2 \\\\\n",
        "total-loss = FL + l1_w * l1 + l2_2 * l2\n",
        "$$"
      ],
      "metadata": {
        "id": "i9ZjwB5c980p"
      }
    },
    {
      "cell_type": "code",
      "source": [
        "class CategoricalFocalLoss(tf.keras.losses.Loss):\n",
        "    def __init__(self, alpha=0.25, gamma=2, l1=0.01, l2=0.01, **kwargs):\n",
        "        super(CategoricalFocalLoss, self).__init__(**kwargs)\n",
        "        self.alpha = alpha\n",
        "        self.gamma = gamma\n",
        "        self.l1 = l1\n",
        "        self.l2 = l2\n",
        "\n",
        "    def call(self, y_true, y_pred):\n",
        "        epsilon = 1e-8\n",
        "        y_pred = tf.clip_by_value(y_pred, epsilon, 1.0 - epsilon)\n",
        "\n",
        "        # Compute categorical focal loss\n",
        "        cross_entropy = -self.alpha*y_true * tf.math.pow(1.0 - y_pred, self.gamma) * tf.math.log(y_pred)\n",
        "        focal_loss = tf.reduce_sum(cross_entropy, axis=-1)\n",
        "\n",
        "        # Compute L1 regularization\n",
        "        l1_loss = self.l1 * tf.reduce_sum(tf.abs(y_pred - y_true))\n",
        "\n",
        "        # Compute L2 regularization\n",
        "        l2_loss = self.l2 * tf.reduce_sum(tf.square(y_pred - y_true))\n",
        "\n",
        "        # Total loss\n",
        "        total_loss = focal_loss + l1_loss + l2_loss\n",
        "\n",
        "        return total_loss\n"
      ],
      "metadata": {
        "id": "kajRHyvTEPCf"
      },
      "execution_count": 7,
      "outputs": []
    },
    {
      "cell_type": "code",
      "source": [
        "\n",
        "def build_model(dense_units, input_shape=(224, 224) + (3,)):\n",
        "  model = tf.keras.models.Sequential([\n",
        "      tf.keras.layers.Conv2D(16, (3, 3), activation='relu', input_shape=input_shape),\n",
        "      tf.keras.layers.MaxPooling2D(2, 2),\n",
        "      tf.keras.layers.Conv2D(32, (3, 3), activation='relu'),\n",
        "      tf.keras.layers.MaxPooling2D(2, 2),\n",
        "      tf.keras.layers.Conv2D(64, (3, 3), activation='relu'),\n",
        "      tf.keras.layers.MaxPooling2D(2, 2),\n",
        "      tf.keras.layers.Flatten(),\n",
        "      tf.keras.layers.Dense(dense_units, activation='relu'),\n",
        "      tf.keras.layers.Dense(2, activation='softmax')\n",
        "  ])\n",
        "  return model"
      ],
      "metadata": {
        "id": "Hc6pe74GEnAK"
      },
      "execution_count": 8,
      "outputs": []
    },
    {
      "cell_type": "code",
      "source": [
        "import tensorflow_datasets as tfds\n",
        "dataset = tfds.load('cats_vs_dogs', split=tfds.Split.TRAIN, data_dir='data/')\n",
        "\n",
        "# Initialize VGG with the number of classes\n",
        "model = build_model(dense_units=256)\n",
        "\n",
        "# Compile with losses and metrics\n",
        "model.compile(optimizer='adam', loss=CategoricalFocalLoss(), metrics=['accuracy'])\n",
        "\n",
        "# Define preprocessing function\n",
        "def preprocess(features):\n",
        "    # Resize and normalize\n",
        "    image = tf.image.resize(features['image'], (224, 224))\n",
        "    return tf.cast(image, tf.float32) / 255., tf.cast(tf.one_hot(features['label'], depth=2), tf.float32)\n",
        "\n",
        "# Apply transformations to dataset\n",
        "dataset = dataset.map(preprocess).batch(32)\n",
        "\n",
        "# Train the custom VGG model\n",
        "model.fit(dataset, epochs=10)"
      ],
      "metadata": {
        "id": "0YtH-VbM91oC",
        "colab": {
          "base_uri": "https://localhost:8080/"
        },
        "outputId": "7ff6d9ed-5045-4b47-cb75-c0318e00b1a1"
      },
      "execution_count": 9,
      "outputs": [
        {
          "output_type": "stream",
          "name": "stdout",
          "text": [
            "Epoch 1/10\n",
            "727/727 [==============================] - 38s 50ms/step - loss: 0.4166 - accuracy: 0.6968\n",
            "Epoch 2/10\n",
            "727/727 [==============================] - 38s 52ms/step - loss: 0.3095 - accuracy: 0.7997\n",
            "Epoch 3/10\n",
            "727/727 [==============================] - 36s 50ms/step - loss: 0.2304 - accuracy: 0.8604\n",
            "Epoch 4/10\n",
            "727/727 [==============================] - 36s 50ms/step - loss: 0.1537 - accuracy: 0.9145\n",
            "Epoch 5/10\n",
            "727/727 [==============================] - 36s 50ms/step - loss: 0.1009 - accuracy: 0.9453\n",
            "Epoch 6/10\n",
            "727/727 [==============================] - 36s 50ms/step - loss: 0.0633 - accuracy: 0.9663\n",
            "Epoch 7/10\n",
            "727/727 [==============================] - 37s 51ms/step - loss: 0.0410 - accuracy: 0.9788\n",
            "Epoch 8/10\n",
            "727/727 [==============================] - 37s 50ms/step - loss: 0.0248 - accuracy: 0.9877\n",
            "Epoch 9/10\n",
            "727/727 [==============================] - 37s 51ms/step - loss: 0.0177 - accuracy: 0.9911\n",
            "Epoch 10/10\n",
            "727/727 [==============================] - 36s 50ms/step - loss: 0.0192 - accuracy: 0.9904\n"
          ]
        },
        {
          "output_type": "execute_result",
          "data": {
            "text/plain": [
              "<keras.src.callbacks.History at 0x785dff080970>"
            ]
          },
          "metadata": {},
          "execution_count": 9
        }
      ]
    },
    {
      "cell_type": "code",
      "source": [],
      "metadata": {
        "id": "L0By2tC2FBUZ"
      },
      "execution_count": null,
      "outputs": []
    }
  ]
}